{
 "cells": [
  {
   "cell_type": "markdown",
   "id": "2b504074",
   "metadata": {},
   "source": [
    "# DIIM Plotting Functions"
   ]
  },
  {
   "cell_type": "code",
   "execution_count": 55,
   "id": "80e2fbee",
   "metadata": {},
   "outputs": [],
   "source": [
    "import numpy as np\n",
    "import pandas as pd\n",
    "import matplotlib.pyplot as plt\n",
    "import seaborn as sns"
   ]
  },
  {
   "cell_type": "code",
   "execution_count": 56,
   "id": "4687fa15",
   "metadata": {},
   "outputs": [],
   "source": [
    "def read_csv_data(filename):\n",
    "    \"\"\"Helper function for reading CSV files.\"\"\"\n",
    "    df = pd.read_csv(filename)\n",
    "    return df"
   ]
  },
  {
   "cell_type": "code",
   "execution_count": null,
   "id": "3f3629b5",
   "metadata": {},
   "outputs": [],
   "source": [
    "def plot(xdata, ydata, xlabel=None, ylabel=None, title=None, dpi=300):\n",
    "    \"\"\"Helper function for creating IIM plots.\"\"\"\n",
    "    _, ax = plt.subplots(figsize=(15, 5), dpi=dpi)\n",
    "    ax.bar(xdata, ydata)\n",
    "    ax.yaxis.grid(color='gray', linestyle='dashed')\n",
    "    ax.set_ylabel(ylabel)\n",
    "    ax.set_xlabel(xlabel)\n",
    "    ax.set_title(title)\n",
    "    plt.xticks(rotation=90)"
   ]
  },
  {
   "cell_type": "code",
   "execution_count": null,
   "id": "6ae5f5d6",
   "metadata": {},
   "outputs": [],
   "source": [
    "def plot_group(xtick_labels, y1, y2, xlabel=None, ylabel=None, legend=None, title=None, dpi=300):\n",
    "    \"\"\"Helper function for creating grouped IIM plots.\"\"\"\n",
    "    _, ax = plt.subplots(figsize=(15, 5), dpi=dpi)\n",
    "    ax.yaxis.grid(color='gray', linestyle='dashed')\n",
    "\n",
    "    ind = np.arange(len(xtick_labels))\n",
    "    width = 0.4\n",
    "\n",
    "    p1 = ax.bar(ind, y1, width)\n",
    "    p2 = ax.bar(ind + width, y2, width)\n",
    "\n",
    "    ax.set_xticks(ind + width / 2)\n",
    "    ax.set_xticklabels(xtick_labels)\n",
    "    plt.xticks(rotation=90)\n",
    "\n",
    "    ax.legend((p1[0], p2[0]), legend)\n",
    "    ax.set_ylabel(ylabel)\n",
    "    ax.set_xlabel(xlabel)\n",
    "    ax.set_title(title)"
   ]
  },
  {
   "cell_type": "code",
   "execution_count": null,
   "id": "611d5de1",
   "metadata": {},
   "outputs": [],
   "source": [
    "def plot_dynamic(t_data, qt_data, labels, yscale=\"linear\", xlabel=\"Time / hours\", ylabel=\"Inoperability\", dpi=300):\n",
    "    \"\"\"Helper function for plotting dynamic IIM data.\"\"\"\n",
    "    marker = itertools.cycle((\",\", \"+\", \".\", \"^\", \"*\", \"o\", \">\", \"<\")) \n",
    "    _, ax = plt.subplots(dpi=dpi)\n",
    "    for j in range(len(labels)):\n",
    "        ax.plot(t_data, qt_data[:, j], label=labels[j], marker=next(marker), linestyle=\"-\")\n",
    "    plt.yscale(yscale)\n",
    "    ax.yaxis.grid(color='gray', linestyle='dashed')\n",
    "    ax.set_ylabel(ylabel)\n",
    "    ax.set_xlabel(xlabel)\n",
    "    ax.legend(loc=\"upper center\", bbox_to_anchor=(0.5, -0.15), ncol=4)"
   ]
  },
  {
   "cell_type": "code",
   "execution_count": 57,
   "id": "fea87aa3",
   "metadata": {},
   "outputs": [],
   "source": [
    "def plot_heatmap(df, vmin=2.0, vmax=4.5, dpi=300):\n",
    "    \"\"\"Helper function for creating heatmaps.\"\"\"\n",
    "    # df[\"impact\"] = pd.to_numeric(df[\"impact\"]) # uncomment if needed\n",
    "    data = df.pivot(\"infra_i\", \"infra_j\", \"impact\")\n",
    "    _, ax = plt.subplots(dpi=dpi)\n",
    "    sns.heatmap(data, linewidth=0.5, vmin=vmin, vmax=vmax, cbar_kws={\"label\": \"Impact\"}, ax=ax)\n",
    "    plt.xlabel([])\n",
    "    plt.ylabel([])"
   ]
  }
 ],
 "metadata": {
  "kernelspec": {
   "display_name": "Python 3 (ipykernel)",
   "language": "python",
   "name": "python3"
  },
  "language_info": {
   "codemirror_mode": {
    "name": "ipython",
    "version": 3
   },
   "file_extension": ".py",
   "mimetype": "text/x-python",
   "name": "python",
   "nbconvert_exporter": "python",
   "pygments_lexer": "ipython3",
   "version": "3.8.10"
  }
 },
 "nbformat": 4,
 "nbformat_minor": 5
}
