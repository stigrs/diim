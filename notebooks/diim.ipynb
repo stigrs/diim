{
 "cells": [
  {
   "cell_type": "markdown",
   "id": "2b504074",
   "metadata": {},
   "source": [
    "# Dynamic Inoperability Input-Output Model (DIIM)"
   ]
  },
  {
   "cell_type": "code",
   "execution_count": 1,
   "id": "80e2fbee",
   "metadata": {},
   "outputs": [],
   "source": [
    "import pydiim.pydiim as pydiim"
   ]
  },
  {
   "cell_type": "markdown",
   "id": "c5c3919d",
   "metadata": {},
   "source": [
    "## Setup DIIM calculation"
   ]
  },
  {
   "cell_type": "code",
   "execution_count": 2,
   "id": "1c83640f",
   "metadata": {},
   "outputs": [],
   "source": [
    "config = {\n",
    "    \"job_name\": \"diim_job_name\",           # name of DIIM experiment\n",
    "    \"DIIM\": {\n",
    "        \"amatrix_type\": \"interdependency\", # valid options are: input-output, interdependency, sparse_interdependency\n",
    "        \"calc_mode\": \"demand\",             # valid options are: demand, supply\n",
    "        \"amat_file\": \"amat_file.csv\",      # must be a CSV file\n",
    "        \"kmat_file\": \"\",                   # must be a CSV file\n",
    "        \"tau_file\": \"\",                    # must be a CSV file\n",
    "        \"q0_file\": \"\",                     # must be a CSV file\n",
    "        \"lambda_val\": 0.01,\n",
    "        \"time_steps\": 0 \n",
    "    },\n",
    "    \"Perturbation\": {\n",
    "        \"pinfra\": [\"\"],\n",
    "        \"cvalue\": [0.0],\n",
    "        \"ptime\": [[0, 0]] \n",
    "    }\n",
    "}"
   ]
  },
  {
   "cell_type": "markdown",
   "id": "f56661cd",
   "metadata": {},
   "source": [
    "## Run DIIM calculation\n",
    "\n",
    "Valid run types:\n",
    "- influence\n",
    "- interdependency\n",
    "- inoperability\n",
    "- dynamic\n",
    "- recovery\n",
    "- single_attack\n",
    "- hybrid_attack"
   ]
  },
  {
   "cell_type": "code",
   "execution_count": null,
   "id": "a1a66889",
   "metadata": {},
   "outputs": [],
   "source": [
    "# diim = pydiim.PyDIIM(config)\n",
    "# df = diim.run(\"influence\")"
   ]
  },
  {
   "cell_type": "code",
   "execution_count": null,
   "id": "270351b1",
   "metadata": {},
   "outputs": [],
   "source": []
  }
 ],
 "metadata": {
  "kernelspec": {
   "display_name": "Python 3 (ipykernel)",
   "language": "python",
   "name": "python3"
  },
  "language_info": {
   "codemirror_mode": {
    "name": "ipython",
    "version": 3
   },
   "file_extension": ".py",
   "mimetype": "text/x-python",
   "name": "python",
   "nbconvert_exporter": "python",
   "pygments_lexer": "ipython3",
   "version": "3.9.13"
  }
 },
 "nbformat": 4,
 "nbformat_minor": 5
}
