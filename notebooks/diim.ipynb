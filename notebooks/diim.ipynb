{
 "cells": [
  {
   "cell_type": "markdown",
   "id": "2b504074",
   "metadata": {},
   "source": [
    "# Dynamic Inoperability Input-Output Model (DIIM)"
   ]
  },
  {
   "cell_type": "code",
   "execution_count": 1,
   "id": "80e2fbee",
   "metadata": {},
   "outputs": [],
   "source": [
    "import pydiim.pydiim as pydiim"
   ]
  },
  {
   "cell_type": "markdown",
   "id": "c5c3919d",
   "metadata": {},
   "source": [
    "## Setup DIIM calculation"
   ]
  },
  {
   "cell_type": "markdown",
   "id": "1c83640f",
   "metadata": {},
   "source": [
    "This is an example of how input configurations can be generated:\n",
    "\n",
    "```python\n",
    "    def generate_config(expr_name, job_name=\"\", time_steps=0, pinfra=[\"\"], cvalue=[0.0], ptime=[[0, 0]]):\n",
    "        config = {\n",
    "            \"job_name\": expr_name + job_name,         # name of DIIM experiment\n",
    "            \"DIIM\": {\n",
    "                \"amatrix_type\": \"interdependency\",    \n",
    "                \"calc_mode\": \"demand\",                \n",
    "                \"amat_file\": expr_name + \"_amat.csv\", # must be a CSV file\n",
    "                \"kmat_file\": \"\",                      # must be a CSV file\n",
    "                \"tau_file\": \"\",                       # must be a CSV file\n",
    "                \"q0_file\": \"\",                        # must be a CSV file\n",
    "                \"lambda\": 0.01,\n",
    "                \"time_steps\": time_steps \n",
    "            },\n",
    "            \"Perturbation\": {\n",
    "                \"pinfra\": pinfra,\n",
    "                \"cvalue\": cvalue,\n",
    "                \"ptime\": ptime\n",
    "            }\n",
    "        }\n",
    "        return config\n",
    "```"
   ]
  },
  {
   "cell_type": "markdown",
   "id": "f56661cd",
   "metadata": {},
   "source": [
    "## Run DIIM calculation\n",
    "\n",
    "Valid run types:\n",
    "- influence\n",
    "- interdependency\n",
    "- inoperability\n",
    "- dynamic\n",
    "- recovery\n",
    "- single_attack\n",
    "- hybrid_attack"
   ]
  },
  {
   "cell_type": "markdown",
   "id": "a1a66889",
   "metadata": {},
   "source": [
    "This is an example of how to run DIIM calculations:\n",
    "\n",
    "```python\n",
    "    experiment = [\"expr1\", \"expr2\"]\n",
    "    title = [\"Experiment 1\", \"Experiment 2\"]\n",
    "    time_steps = 25\n",
    "    pinfra = [[\"Sector1\"], [\"Sector2\"]]\n",
    "    cvalue = [0.1]\n",
    "    ptime = [[0, 25]]\n",
    "\n",
    "    for ei, pi, ti in zip(experiment, pinfra, title):\n",
    "        config = generate_config(ei, \"_\" + pi[0].lower(), time_steps, pi, cvalue, ptime)\n",
    "        diim = pydiim.PyDIIM(config)\n",
    "        df = diim.run(\"dynamic\")\n",
    "        pydiim.plot_dynamic(df, title=ti)\n",
    "```"
   ]
  }
 ],
 "metadata": {
  "kernelspec": {
   "display_name": "Python 3 (ipykernel)",
   "language": "python",
   "name": "python3"
  },
  "language_info": {
   "codemirror_mode": {
    "name": "ipython",
    "version": 3
   },
   "file_extension": ".py",
   "mimetype": "text/x-python",
   "name": "python",
   "nbconvert_exporter": "python",
   "pygments_lexer": "ipython3",
   "version": "3.9.13"
  }
 },
 "nbformat": 4,
 "nbformat_minor": 5
}
